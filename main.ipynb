{
 "cells": [
  {
   "cell_type": "code",
   "execution_count": 1,
   "id": "9a9ff98a-5db2-44ef-98a2-8d7f24510f47",
   "metadata": {},
   "outputs": [],
   "source": [
    "import numpy as np\n",
    "import os\n",
    "import re\n",
    "from solns import *\n",
    "from copy import deepcopy\n",
    "\n",
    "input_path = 'input_data/'"
   ]
  },
  {
   "cell_type": "markdown",
   "id": "4d42000a-79be-4fe2-9ad6-afea9e6a49bf",
   "metadata": {},
   "source": [
    "## day 9"
   ]
  },
  {
   "cell_type": "code",
   "execution_count": 4,
   "id": "a9700403-4a0a-4edc-9f42-e2f54f772e5b",
   "metadata": {},
   "outputs": [
    {
     "name": "stdout",
     "output_type": "stream",
     "text": [
      "[[1 3 3 ... 2 0 0]\n",
      " [2 0 1 ... 0 1 0]\n",
      " [3 1 2 ... 2 1 0]\n",
      " ...\n",
      " [3 3 3 ... 3 1 1]\n",
      " [2 1 3 ... 0 1 0]\n",
      " [3 1 1 ... 1 0 1]]\n"
     ]
    },
    {
     "data": {
      "text/plain": [
       "(1703, 496650)"
      ]
     },
     "execution_count": 4,
     "metadata": {},
     "output_type": "execute_result"
    }
   ],
   "source": [
    "### Day n input ###\n",
    "x = process_input_day_n(8, input_path)\n",
    "print(x)\n",
    "soln_day_8(x)"
   ]
  },
  {
   "cell_type": "code",
   "execution_count": null,
   "id": "54a1d5a1-30f6-47c2-86d5-8cd3437aa65e",
   "metadata": {},
   "outputs": [],
   "source": []
  },
  {
   "cell_type": "code",
   "execution_count": null,
   "id": "97f0027d-a9c9-439a-bb2a-39a9d384eebb",
   "metadata": {},
   "outputs": [],
   "source": []
  },
  {
   "cell_type": "code",
   "execution_count": null,
   "id": "0cc883b9-421a-4d12-a9a0-4f315bf9da33",
   "metadata": {},
   "outputs": [],
   "source": []
  },
  {
   "cell_type": "markdown",
   "id": "51c35358-d865-4fda-b449-0b235ba7c0c1",
   "metadata": {},
   "source": [
    "## day 11"
   ]
  },
  {
   "cell_type": "code",
   "execution_count": null,
   "id": "508def0f-b9c4-4412-86e2-cc65cc82b8e6",
   "metadata": {},
   "outputs": [],
   "source": [
    "### Day n input ###\n",
    "x = process_input_day_n(11, input_path)\n",
    "x_test = x[:60]\n",
    "x_test"
   ]
  },
  {
   "cell_type": "code",
   "execution_count": null,
   "id": "edaabd59-6331-4713-90fc-53f0d5c8ed62",
   "metadata": {},
   "outputs": [],
   "source": [
    "each monkey:\n",
    "    objects_held\n",
    "    operation lambda\n",
    "    test lambda\n",
    "    throws_to tuple\n",
    "    total objects inspected int"
   ]
  },
  {
   "cell_type": "code",
   "execution_count": null,
   "id": "0b829355-6abb-46e5-a1c9-cbbf4719fa15",
   "metadata": {},
   "outputs": [],
   "source": [
    "class Monkey:\n",
    "\n",
    "    kind = 'canine'         # class variable shared by all instances\n",
    "\n",
    "    def __init__(self, name):\n",
    "        self.name = name    # instance variable unique to each instance\n"
   ]
  },
  {
   "cell_type": "code",
   "execution_count": null,
   "id": "f284d24c-4cec-44b3-a0f9-bc902860f3e1",
   "metadata": {},
   "outputs": [],
   "source": []
  },
  {
   "cell_type": "code",
   "execution_count": null,
   "id": "33ecb133-f1f9-4b5c-9b5c-a4731eb2733f",
   "metadata": {},
   "outputs": [],
   "source": []
  },
  {
   "cell_type": "code",
   "execution_count": null,
   "id": "559ac9f4-e65b-43c8-89eb-de2a5e08cb65",
   "metadata": {},
   "outputs": [],
   "source": [
    "# scratch import\n",
    "input_fn = f\"\"\"input_05.txt\"\"\"\n",
    "filepath = os.path.join(input_path, input_fn)\n",
    "x = []\n",
    "\n",
    "with open(filepath) as fp:\n",
    "    for line in fp:\n",
    "        x.append(line)\n"
   ]
  },
  {
   "cell_type": "code",
   "execution_count": null,
   "id": "0bdcd288-159b-40bd-be9c-f5b428bd610b",
   "metadata": {},
   "outputs": [],
   "source": []
  },
  {
   "cell_type": "code",
   "execution_count": 6,
   "id": "6580183d-4ff0-497c-9e55-fcd07aa64b6f",
   "metadata": {},
   "outputs": [
    {
     "name": "stdout",
     "output_type": "stream",
     "text": [
      "(1703, 496650)\n"
     ]
    }
   ],
   "source": [
    "## Solutions so far:\n",
    "x = process_input_day_n(8, input_path)\n",
    "#print(x)\n",
    "print(soln_day_8(x))"
   ]
  }
 ],
 "metadata": {
  "kernelspec": {
   "display_name": "Python 3 (ipykernel)",
   "language": "python",
   "name": "python3"
  },
  "language_info": {
   "codemirror_mode": {
    "name": "ipython",
    "version": 3
   },
   "file_extension": ".py",
   "mimetype": "text/x-python",
   "name": "python",
   "nbconvert_exporter": "python",
   "pygments_lexer": "ipython3",
   "version": "3.9.13"
  }
 },
 "nbformat": 4,
 "nbformat_minor": 5
}
