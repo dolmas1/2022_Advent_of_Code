{
 "cells": [
  {
   "cell_type": "code",
   "execution_count": 1,
   "id": "9a9ff98a-5db2-44ef-98a2-8d7f24510f47",
   "metadata": {},
   "outputs": [],
   "source": [
    "import numpy as np\n",
    "import os\n",
    "import re\n",
    "from solns import *\n",
    "from copy import deepcopy\n",
    "\n",
    "input_path = 'input_data/'"
   ]
  },
  {
   "cell_type": "markdown",
   "id": "4d42000a-79be-4fe2-9ad6-afea9e6a49bf",
   "metadata": {},
   "source": [
    "## day 7"
   ]
  },
  {
   "cell_type": "code",
   "execution_count": null,
   "id": "6a838650-3c2e-4111-b97f-917b48e6c00e",
   "metadata": {},
   "outputs": [],
   "source": [
    "### Day n input ###\n",
    "x = process_input_day_n(11, input_path)\n",
    "x_test = x[:60]\n",
    "x_test"
   ]
  },
  {
   "cell_type": "code",
   "execution_count": null,
   "id": "edaabd59-6331-4713-90fc-53f0d5c8ed62",
   "metadata": {},
   "outputs": [],
   "source": [
    "each monkey:\n",
    "    objects_held\n",
    "    operation lambda\n",
    "    test lambda\n",
    "    throws_to tuple\n",
    "    total objects inspected int"
   ]
  },
  {
   "cell_type": "code",
   "execution_count": null,
   "id": "0b829355-6abb-46e5-a1c9-cbbf4719fa15",
   "metadata": {},
   "outputs": [],
   "source": [
    "class Monkey:\n",
    "\n",
    "    kind = 'canine'         # class variable shared by all instances\n",
    "\n",
    "    def __init__(self, name):\n",
    "        self.name = name    # instance variable unique to each instance\n"
   ]
  },
  {
   "cell_type": "code",
   "execution_count": null,
   "id": "f284d24c-4cec-44b3-a0f9-bc902860f3e1",
   "metadata": {},
   "outputs": [],
   "source": []
  },
  {
   "cell_type": "code",
   "execution_count": null,
   "id": "3bb2d83d-0301-49e8-b9ea-9c7b7d6d92a4",
   "metadata": {},
   "outputs": [],
   "source": []
  },
  {
   "cell_type": "code",
   "execution_count": null,
   "id": "c6b32645-ed8f-443a-8b9e-ab76eaaac12b",
   "metadata": {},
   "outputs": [],
   "source": []
  },
  {
   "cell_type": "code",
   "execution_count": null,
   "id": "33ecb133-f1f9-4b5c-9b5c-a4731eb2733f",
   "metadata": {},
   "outputs": [],
   "source": []
  },
  {
   "cell_type": "code",
   "execution_count": null,
   "id": "559ac9f4-e65b-43c8-89eb-de2a5e08cb65",
   "metadata": {},
   "outputs": [],
   "source": [
    "# scratch import\n",
    "input_fn = f\"\"\"input_05.txt\"\"\"\n",
    "filepath = os.path.join(input_path, input_fn)\n",
    "x = []\n",
    "\n",
    "with open(filepath) as fp:\n",
    "    for line in fp:\n",
    "        x.append(line)\n"
   ]
  },
  {
   "cell_type": "code",
   "execution_count": null,
   "id": "0bdcd288-159b-40bd-be9c-f5b428bd610b",
   "metadata": {},
   "outputs": [],
   "source": []
  },
  {
   "cell_type": "code",
   "execution_count": 3,
   "id": "6580183d-4ff0-497c-9e55-fcd07aa64b6f",
   "metadata": {},
   "outputs": [
    {
     "name": "stdout",
     "output_type": "stream",
     "text": [
      "(71502, 71502)\n",
      "(15523, 15702)\n",
      "(8085, 2515)\n",
      "(584, 933)\n",
      "('RLFNRTNFB', 'MHQTLJRLB')\n",
      "(1598, 2414)\n",
      "(1749646, 0)\n"
     ]
    }
   ],
   "source": [
    "## Solutions so far:\n",
    "for n in range(1,8):\n",
    "    print(solve_day_n(n))"
   ]
  }
 ],
 "metadata": {
  "kernelspec": {
   "display_name": "Python 3",
   "language": "python",
   "name": "python3"
  },
  "language_info": {
   "codemirror_mode": {
    "name": "ipython",
    "version": 3
   },
   "file_extension": ".py",
   "mimetype": "text/x-python",
   "name": "python",
   "nbconvert_exporter": "python",
   "pygments_lexer": "ipython3",
   "version": "3.8.8"
  }
 },
 "nbformat": 4,
 "nbformat_minor": 5
}
