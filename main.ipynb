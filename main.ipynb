{
 "cells": [
  {
   "cell_type": "code",
   "execution_count": 1,
   "id": "9a9ff98a-5db2-44ef-98a2-8d7f24510f47",
   "metadata": {},
   "outputs": [],
   "source": [
    "import numpy as np\n",
    "import os\n",
    "import re\n",
    "from solns import *\n",
    "from copy import deepcopy\n",
    "\n",
    "input_path = 'input_data/'"
   ]
  },
  {
   "cell_type": "code",
   "execution_count": 4,
   "id": "b8e462e6-1080-4d4e-976d-d26aedae010d",
   "metadata": {},
   "outputs": [
    {
     "data": {
      "text/plain": [
       "['                [B] [L]     [J]    \\n',\n",
       " '            [B] [Q] [R]     [D] [T]\\n',\n",
       " '            [G] [H] [H] [M] [N] [F]\\n',\n",
       " '        [J] [N] [D] [F] [J] [H] [B]\\n',\n",
       " '    [Q] [F] [W] [S] [V] [N] [F] [N]\\n',\n",
       " '[W] [N] [H] [M] [L] [B] [R] [T] [Q]\\n']"
      ]
     },
     "execution_count": 4,
     "metadata": {},
     "output_type": "execute_result"
    }
   ],
   "source": [
    "### Day n input ###\n",
    "x = process_input_day_n(5, input_path)\n",
    "x_test = x[:6]\n",
    "x_test"
   ]
  },
  {
   "cell_type": "code",
   "execution_count": 4,
   "id": "559ac9f4-e65b-43c8-89eb-de2a5e08cb65",
   "metadata": {},
   "outputs": [],
   "source": [
    "# scratch import\n",
    "input_fn = f\"\"\"input_05.txt\"\"\"\n",
    "filepath = os.path.join(input_path, input_fn)\n",
    "x = []\n",
    "\n",
    "with open(filepath) as fp:\n",
    "    for line in fp:\n",
    "        x.append(line)\n"
   ]
  },
  {
   "cell_type": "code",
   "execution_count": null,
   "id": "0bdcd288-159b-40bd-be9c-f5b428bd610b",
   "metadata": {},
   "outputs": [],
   "source": []
  },
  {
   "cell_type": "code",
   "execution_count": 2,
   "id": "6580183d-4ff0-497c-9e55-fcd07aa64b6f",
   "metadata": {},
   "outputs": [
    {
     "name": "stdout",
     "output_type": "stream",
     "text": [
      "(71502, 71502)\n",
      "(15523, 15702)\n",
      "(8085, 2515)\n",
      "(584, 933)\n",
      "('RLFNRTNFB', 'MHQTLJRLB')\n"
     ]
    }
   ],
   "source": [
    "## Solutions so far:\n",
    "for n in range(1,6):\n",
    "    print(solve_day_n(n))"
   ]
  }
 ],
 "metadata": {
  "kernelspec": {
   "display_name": "Python 3",
   "language": "python",
   "name": "python3"
  },
  "language_info": {
   "codemirror_mode": {
    "name": "ipython",
    "version": 3
   },
   "file_extension": ".py",
   "mimetype": "text/x-python",
   "name": "python",
   "nbconvert_exporter": "python",
   "pygments_lexer": "ipython3",
   "version": "3.8.8"
  }
 },
 "nbformat": 4,
 "nbformat_minor": 5
}
