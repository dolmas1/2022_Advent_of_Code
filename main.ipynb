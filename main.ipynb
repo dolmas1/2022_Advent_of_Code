{
 "cells": [
  {
   "cell_type": "code",
   "execution_count": 1,
   "id": "9a9ff98a-5db2-44ef-98a2-8d7f24510f47",
   "metadata": {},
   "outputs": [],
   "source": [
    "import numpy as np\n",
    "import os\n",
    "import re\n",
    "from solns import *\n",
    "from copy import deepcopy\n",
    "\n",
    "input_path = 'input_data/'"
   ]
  },
  {
   "cell_type": "code",
   "execution_count": null,
   "id": "255072de-0f02-45b1-a2ae-75704470ec34",
   "metadata": {},
   "outputs": [],
   "source": [
    "### Day n input ###\n",
    "x = process_input_day_n(6, input_path)\n",
    "x_test = x[:]\n",
    "x_test"
   ]
  },
  {
   "cell_type": "code",
   "execution_count": 4,
   "id": "559ac9f4-e65b-43c8-89eb-de2a5e08cb65",
   "metadata": {},
   "outputs": [],
   "source": [
    "# scratch import\n",
    "input_fn = f\"\"\"input_05.txt\"\"\"\n",
    "filepath = os.path.join(input_path, input_fn)\n",
    "x = []\n",
    "\n",
    "with open(filepath) as fp:\n",
    "    for line in fp:\n",
    "        x.append(line)\n"
   ]
  },
  {
   "cell_type": "code",
   "execution_count": null,
   "id": "0bdcd288-159b-40bd-be9c-f5b428bd610b",
   "metadata": {},
   "outputs": [],
   "source": []
  },
  {
   "cell_type": "code",
   "execution_count": 2,
   "id": "6580183d-4ff0-497c-9e55-fcd07aa64b6f",
   "metadata": {},
   "outputs": [
    {
     "name": "stdout",
     "output_type": "stream",
     "text": [
      "(71502, 71502)\n",
      "(15523, 15702)\n",
      "(8085, 2515)\n",
      "(584, 933)\n",
      "('RLFNRTNFB', 'MHQTLJRLB')\n",
      "(1598, 2414)\n"
     ]
    }
   ],
   "source": [
    "## Solutions so far:\n",
    "for n in range(1,7):\n",
    "    print(solve_day_n(n))"
   ]
  }
 ],
 "metadata": {
  "kernelspec": {
   "display_name": "Python 3",
   "language": "python",
   "name": "python3"
  },
  "language_info": {
   "codemirror_mode": {
    "name": "ipython",
    "version": 3
   },
   "file_extension": ".py",
   "mimetype": "text/x-python",
   "name": "python",
   "nbconvert_exporter": "python",
   "pygments_lexer": "ipython3",
   "version": "3.8.8"
  }
 },
 "nbformat": 4,
 "nbformat_minor": 5
}
