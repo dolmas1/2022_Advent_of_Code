{
 "cells": [
  {
   "cell_type": "code",
   "execution_count": 1,
   "id": "9a9ff98a-5db2-44ef-98a2-8d7f24510f47",
   "metadata": {},
   "outputs": [],
   "source": [
    "import numpy as np\n",
    "import os\n",
    "import re\n",
    "from solns import *\n",
    "from copy import deepcopy\n",
    "\n",
    "input_path = 'input_data/'"
   ]
  },
  {
   "cell_type": "markdown",
   "id": "3d8b07ce-ab1b-44fb-9951-c9cb2e1d0481",
   "metadata": {},
   "source": [
    "## day 7"
   ]
  },
  {
   "cell_type": "code",
   "execution_count": null,
   "id": "e3a58b56-1eed-401e-8769-799ddab0db8e",
   "metadata": {},
   "outputs": [],
   "source": [
    "### Day n input ###\n",
    "x = process_input_day_n(7, input_path)\n",
    "x_test = x[:60]\n",
    "x_test"
   ]
  },
  {
   "cell_type": "code",
   "execution_count": null,
   "id": "fec40cb4-80ed-4a62-9b16-4a3d0c0b2ebc",
   "metadata": {},
   "outputs": [],
   "source": [
    "current_dir = []\n",
    "from collections import defaultdict\n",
    "sizes_dict = defaultdict(defaultdict)\n",
    "for instruction in x_test:\n",
    "    \n",
    "    #re.match(r'^\\$ cd\\s{.*}', instruction)\n",
    "    \n",
    "    if re.match(r'^\\$ cd.*', instruction):\n",
    "        cd_loc = re.search(r'^\\$ cd\\s(.*)', instruction).groups()[0]\n",
    "        if cd_loc != '..':\n",
    "            current_dir.append(cd_loc)\n",
    "        else:\n",
    "            current_dir.pop()\n",
    "    elif instruction[0] = '$':\n",
    "        pass\n",
    "    elif re.match(r'^dir\\s.*', instruction):\n",
    "        sub_dir = re.search(r'^dir\\s(.*)', instruction).groups()[0]\n",
    "    else:\n",
    "        file_size = re.search(r'^(\\d)+\\s', instruction).groups()[0]\n",
    "            \n",
    "        print(current_dir)"
   ]
  },
  {
   "cell_type": "code",
   "execution_count": 26,
   "id": "0296139e-1357-4b0d-9922-8fa2d7a4d941",
   "metadata": {},
   "outputs": [],
   "source": [
    "if re.match(r'^\\$ cd.*', instruction):\n",
    "    print('yes')"
   ]
  },
  {
   "cell_type": "code",
   "execution_count": 49,
   "id": "acef4e89-cb84-48d8-a57c-2d4a0b9af412",
   "metadata": {},
   "outputs": [],
   "source": [
    "instruction = '$ cd lswlpt'\n",
    "instruction = '$ cd ..'\n",
    "#instruction = 'blah'"
   ]
  },
  {
   "cell_type": "code",
   "execution_count": 50,
   "id": "38e6a4c4-6985-4cff-9f8e-a4aadd5ecba3",
   "metadata": {},
   "outputs": [],
   "source": [
    "blah = re.search(r'^\\$ cd\\s(.*)', instruction)"
   ]
  },
  {
   "cell_type": "code",
   "execution_count": 51,
   "id": "5a636ad5-b092-495b-9bd2-23b99582b1ee",
   "metadata": {},
   "outputs": [
    {
     "data": {
      "text/plain": [
       "('..',)"
      ]
     },
     "execution_count": 51,
     "metadata": {},
     "output_type": "execute_result"
    }
   ],
   "source": [
    "blah.groups()"
   ]
  },
  {
   "cell_type": "code",
   "execution_count": 32,
   "id": "385878d4-3c87-4688-bc9f-08497980a31b",
   "metadata": {},
   "outputs": [
    {
     "data": {
      "text/plain": [
       "'$ cd lswlpt'"
      ]
     },
     "execution_count": 32,
     "metadata": {},
     "output_type": "execute_result"
    }
   ],
   "source": [
    "instruction"
   ]
  },
  {
   "cell_type": "code",
   "execution_count": null,
   "id": "f284d24c-4cec-44b3-a0f9-bc902860f3e1",
   "metadata": {},
   "outputs": [],
   "source": []
  },
  {
   "cell_type": "code",
   "execution_count": null,
   "id": "3bb2d83d-0301-49e8-b9ea-9c7b7d6d92a4",
   "metadata": {},
   "outputs": [],
   "source": []
  },
  {
   "cell_type": "code",
   "execution_count": null,
   "id": "c6b32645-ed8f-443a-8b9e-ab76eaaac12b",
   "metadata": {},
   "outputs": [],
   "source": []
  },
  {
   "cell_type": "code",
   "execution_count": null,
   "id": "33ecb133-f1f9-4b5c-9b5c-a4731eb2733f",
   "metadata": {},
   "outputs": [],
   "source": []
  },
  {
   "cell_type": "code",
   "execution_count": 4,
   "id": "559ac9f4-e65b-43c8-89eb-de2a5e08cb65",
   "metadata": {},
   "outputs": [],
   "source": [
    "# scratch import\n",
    "input_fn = f\"\"\"input_05.txt\"\"\"\n",
    "filepath = os.path.join(input_path, input_fn)\n",
    "x = []\n",
    "\n",
    "with open(filepath) as fp:\n",
    "    for line in fp:\n",
    "        x.append(line)\n"
   ]
  },
  {
   "cell_type": "code",
   "execution_count": null,
   "id": "0bdcd288-159b-40bd-be9c-f5b428bd610b",
   "metadata": {},
   "outputs": [],
   "source": []
  },
  {
   "cell_type": "code",
   "execution_count": 2,
   "id": "6580183d-4ff0-497c-9e55-fcd07aa64b6f",
   "metadata": {},
   "outputs": [
    {
     "name": "stdout",
     "output_type": "stream",
     "text": [
      "(71502, 71502)\n",
      "(15523, 15702)\n",
      "(8085, 2515)\n",
      "(584, 933)\n",
      "('RLFNRTNFB', 'MHQTLJRLB')\n",
      "(1598, 2414)\n"
     ]
    }
   ],
   "source": [
    "## Solutions so far:\n",
    "for n in range(1,7):\n",
    "    print(solve_day_n(n))"
   ]
  }
 ],
 "metadata": {
  "kernelspec": {
   "display_name": "Python 3",
   "language": "python",
   "name": "python3"
  },
  "language_info": {
   "codemirror_mode": {
    "name": "ipython",
    "version": 3
   },
   "file_extension": ".py",
   "mimetype": "text/x-python",
   "name": "python",
   "nbconvert_exporter": "python",
   "pygments_lexer": "ipython3",
   "version": "3.8.8"
  }
 },
 "nbformat": 4,
 "nbformat_minor": 5
}
