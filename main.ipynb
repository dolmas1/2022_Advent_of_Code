{
 "cells": [
  {
   "cell_type": "code",
   "execution_count": 1,
   "id": "9a9ff98a-5db2-44ef-98a2-8d7f24510f47",
   "metadata": {},
   "outputs": [],
   "source": [
    "import numpy as np\n",
    "import os\n",
    "from solns import *\n",
    "\n",
    "input_path = 'input_data/'"
   ]
  },
  {
   "cell_type": "code",
   "execution_count": 4,
   "id": "b8e462e6-1080-4d4e-976d-d26aedae010d",
   "metadata": {},
   "outputs": [
    {
     "data": {
      "text/plain": [
       "['fBDGBcBrGDvjPtPtPV',\n",
       " 'QhzJLlLJZgLZzNTgZClQHvRvHFvrjrvnNjHnFjPF',\n",
       " 'ChldsCZhsQzsCGrrSfMfGpfrdM',\n",
       " 'MJbgcgJlvMSbfjMSbllmCrntwmFrrFwgtCtFFG',\n",
       " 'vPhddVZZhmnmdnHmHn',\n",
       " 'vNBZppZQhjSzfScjDN']"
      ]
     },
     "execution_count": 4,
     "metadata": {},
     "output_type": "execute_result"
    }
   ],
   "source": [
    "### Day n input ###\n",
    "x = process_input_day_n(3, input_path)\n",
    "x_test = x[:6]\n",
    "x_test"
   ]
  },
  {
   "cell_type": "code",
   "execution_count": null,
   "id": "b26ddf82-1577-4c2c-ba05-f4d3fff6b1f7",
   "metadata": {},
   "outputs": [],
   "source": []
  },
  {
   "cell_type": "code",
   "execution_count": null,
   "id": "e7c92101-9a6d-45b2-bd58-c456237948e5",
   "metadata": {},
   "outputs": [],
   "source": []
  },
  {
   "cell_type": "code",
   "execution_count": null,
   "id": "60413518-3e89-4f53-9422-0cd66239c6d8",
   "metadata": {},
   "outputs": [],
   "source": []
  },
  {
   "cell_type": "code",
   "execution_count": 3,
   "id": "6580183d-4ff0-497c-9e55-fcd07aa64b6f",
   "metadata": {},
   "outputs": [
    {
     "name": "stdout",
     "output_type": "stream",
     "text": [
      "(71502, 71502)\n",
      "(15523, 15702)\n",
      "(8085, 2515)\n"
     ]
    }
   ],
   "source": [
    "## Solutions so far:\n",
    "for n in range(1,4):\n",
    "    print(solve_day_n(n))"
   ]
  }
 ],
 "metadata": {
  "kernelspec": {
   "display_name": "Python 3",
   "language": "python",
   "name": "python3"
  },
  "language_info": {
   "codemirror_mode": {
    "name": "ipython",
    "version": 3
   },
   "file_extension": ".py",
   "mimetype": "text/x-python",
   "name": "python",
   "nbconvert_exporter": "python",
   "pygments_lexer": "ipython3",
   "version": "3.8.8"
  }
 },
 "nbformat": 4,
 "nbformat_minor": 5
}
